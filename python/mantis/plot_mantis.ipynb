{
 "cells": [
  {
   "cell_type": "code",
   "execution_count": null,
   "metadata": {},
   "outputs": [],
   "source": [
    "import json\n",
    "import numpy as np\n",
    "import pandas as pd\n",
    "import matplotlib.pyplot as plt\n",
    "%matplotlib inline\n",
    "%config InlineBackend.figure_formats = ['svg']\n",
    "\n",
    "import seaborn as sns\n",
    "\n",
    "import itertools\n",
    "from pprint import pprint\n",
    "from pathlib import Path"
   ]
  },
  {
   "cell_type": "code",
   "execution_count": null,
   "metadata": {
    "tags": [
     "parameters"
    ]
   },
   "outputs": [],
   "source": [
    "result_dir = \"/home/ubuntu/notebooks/mantis-osdi-2020/debug-200-400-qps-2min-sleep-pid\""
   ]
  },
  {
   "cell_type": "code",
   "execution_count": null,
   "metadata": {},
   "outputs": [],
   "source": [
    "dir_name = Path(result_dir)\n",
    "print(\"Using directory\", dir_name)"
   ]
  },
  {
   "cell_type": "markdown",
   "metadata": {},
   "source": [
    "## Config Params"
   ]
  },
  {
   "cell_type": "code",
   "execution_count": null,
   "metadata": {},
   "outputs": [],
   "source": [
    "with open(dir_name / \"config.json\") as f:\n",
    "    pprint(json.load(f))"
   ]
  },
  {
   "cell_type": "markdown",
   "metadata": {},
   "source": [
    "## Controllers"
   ]
  },
  {
   "cell_type": "code",
   "execution_count": null,
   "metadata": {},
   "outputs": [],
   "source": [
    "data_df = pd.read_json(\n",
    "    dir_name / \"status.jsonl\", \n",
    "    lines=True, \n",
    "    convert_dates=[\"_1_lg_sent\"],\n",
    ")"
   ]
  },
  {
   "cell_type": "code",
   "execution_count": null,
   "metadata": {},
   "outputs": [],
   "source": [
    "real_arrival_timestamps = np.array(list(itertools.chain.from_iterable(data_df['real_arrival_ts_ns'].tolist())))/1e9\n",
    "real_arrival_timestamps = pd.Series(real_arrival_timestamps.astype(int)).value_counts().reset_index().sort_values('index')\n",
    "\n",
    "real_arrival_timestamps['index']-=real_arrival_timestamps['index'].min()\n",
    "real_arrival_timestamps = real_arrival_timestamps.rename(columns={'index': 'seconds', 0: 'qps'})\n"
   ]
  },
  {
   "cell_type": "code",
   "execution_count": null,
   "metadata": {},
   "outputs": [],
   "source": [
    "ctl_time = (data_df['current_ts_ns']/1e9).astype(int)\n",
    "ctl_time -= ctl_time.min()\n",
    "\n",
    "plot_df = data_df.loc[:, ['ctl_from', 'ctl_final_decision', 'ctl_action']]\n",
    "plot_df.loc[:, 'num_dropping_replicas'] = data_df['dropped_queue_sizes'].str.len()\n",
    "plot_df.loc[:, 'num_serving_replicas'] = (data_df['queue_sizes'].str.len() - 1 \n",
    "                                          + data_df['fractional_value'] + plot_df['num_dropping_replicas'])\n",
    "plot_df.loc[:, 'ctl_time'] = ctl_time\n",
    "plot_df.loc[:, 'dropped_queue_sizes'] = data_df['dropped_queue_sizes'].apply(sum)\n",
    "plot_df.loc[:, 'total_queue_sizes'] = data_df['queue_sizes'].apply(sum) + data_df['dropped_queue_sizes'].apply(sum)"
   ]
  },
  {
   "cell_type": "code",
   "execution_count": null,
   "metadata": {},
   "outputs": [],
   "source": [
    "fig, (ax1,ax2,ax3,ax4) = plt.subplots(4,1,sharex=True, figsize=(12,8))\n",
    "\n",
    "sns.lineplot(data=real_arrival_timestamps.set_index('seconds'), ax=ax1)\n",
    "\n",
    "sns.lineplot(data=plot_df.set_index('ctl_time')[['num_serving_replicas', 'num_dropping_replicas']], ax=ax2)\n",
    "\n",
    "sns.lineplot(data=plot_df.set_index('ctl_time')[['ctl_action']],ax=ax3)\n",
    "\n",
    "sns.lineplot(data=plot_df.set_index('ctl_time')[[\"total_queue_sizes\",\"dropped_queue_sizes\"]],ax=ax4)\n",
    "\n",
    "plt.tight_layout()\n",
    "plt.savefig(dir_name/\"actions.png\", dpi=100)"
   ]
  },
  {
   "cell_type": "markdown",
   "metadata": {},
   "source": [
    "## Query Trace"
   ]
  },
  {
   "cell_type": "code",
   "execution_count": null,
   "metadata": {},
   "outputs": [],
   "source": [
    "trace_df = pd.read_json(\n",
    "    dir_name / \"trace.jsonl\", \n",
    "    lines=True, \n",
    "    convert_dates=[\"_1_lg_sent\"],\n",
    ")\n",
    "trace_df['e2e_ms'] = (trace_df['_4_done_time'] - trace_df['_1_lg_sent']).dt.total_seconds()*1e3\n",
    "trace_df = trace_df.sort_values('query_id')"
   ]
  },
  {
   "cell_type": "code",
   "execution_count": null,
   "metadata": {},
   "outputs": [],
   "source": [
    "def plot_cdf(arr, title):\n",
    "    cdf = pd.DataFrame({\n",
    "        'percentile': np.arange(0,100.5, 0.5),\n",
    "        'latency_ms': np.percentile(arr, np.arange(0,100.5, 0.5))\n",
    "    })\n",
    "\n",
    "    plt.plot(cdf['latency_ms'], cdf['percentile'])\n",
    "\n",
    "    plt.title(title)\n",
    "    plt.xlabel(\"Latency (ms)\")\n",
    "    plt.ylabel(\"Percentile\")\n",
    "\n",
    "    mark_perc = [50, 90, 95, 99]\n",
    "    legends = []\n",
    "    for p in mark_perc:\n",
    "        lat = np.percentile(arr, p)\n",
    "        line_obj = plt.axvline(lat, alpha=0.6, ls=':')\n",
    "        legends.append((line_obj, f\"{p}: {lat:.2f}\"))\n",
    "    objs, labels = zip(*legends)\n",
    "    plt.legend(objs, labels)"
   ]
  },
  {
   "cell_type": "code",
   "execution_count": null,
   "metadata": {},
   "outputs": [],
   "source": [
    "plt.figure(figsize=(12,8))\n",
    "plt.subplot(4,1,1)\n",
    "plot_cdf(trace_df['e2e_ms'], \"End to end latency (ms) CDF\")\n",
    "\n",
    "ordered_ts = [\"_1_lg_sent\", \"_2_enqueue_time\", \"_3_dequeue_time\", \"_4_done_time\"]\n",
    "for i, (start, end) in enumerate(zip(ordered_ts[:-1], ordered_ts[1:])):\n",
    "    diff_name = f\"{start[3:]}->{end[3:]} CDF (ms)\" # strip _1_ prefix\n",
    "    plt.subplot(4,1,i+2)\n",
    "    plot_cdf((trace_df[end]-trace_df[start]).dt.total_seconds()*1e3, diff_name)\n",
    "plt.tight_layout()\n",
    "plt.savefig(dir_name/\"latency_cdf.png\", dpi=100)"
   ]
  },
  {
   "cell_type": "code",
   "execution_count": null,
   "metadata": {},
   "outputs": [],
   "source": []
  }
 ],
 "metadata": {
  "kernelspec": {
   "display_name": "Python 3",
   "language": "python",
   "name": "python3"
  },
  "language_info": {
   "codemirror_mode": {
    "name": "ipython",
    "version": 3
   },
   "file_extension": ".py",
   "mimetype": "text/x-python",
   "name": "python",
   "nbconvert_exporter": "python",
   "pygments_lexer": "ipython3",
   "version": "3.6.7"
  }
 },
 "nbformat": 4,
 "nbformat_minor": 4
}
